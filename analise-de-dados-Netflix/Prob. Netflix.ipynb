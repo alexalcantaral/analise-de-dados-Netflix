{
 "cells": [
  {
   "cell_type": "markdown",
   "id": "2d82807e-4fbc-4610-a73b-a893d856d714",
   "metadata": {},
   "source": [
    "# DataFrame Netflix"
   ]
  },
  {
   "cell_type": "markdown",
   "id": "8212d1d5-cb98-4144-9067-2ba06bc65577",
   "metadata": {},
   "source": [
    "#### Importando o pandas"
   ]
  },
  {
   "cell_type": "code",
   "execution_count": 6,
   "id": "46afc47d-e045-46f1-a895-86dac2399cc5",
   "metadata": {},
   "outputs": [],
   "source": [
    "import pandas as pd"
   ]
  },
  {
   "cell_type": "markdown",
   "id": "b3311f2b-5c26-42f4-95b6-58dbcaa1cf16",
   "metadata": {},
   "source": [
    "  O conjunto de dados fornece um instantâneo de uma base de usuários da Netflix, mostrando vários aspectos das assinaturas de usuários, detalhes da conta e atividade. Cada linha representa um usuário único, identificado pelo seu ID de usuário. O conjunto de dados inclui informações como o tipo de assinatura do usuário (Básico, Padrão ou Premium), a data em que eles aderiram à Netflix (data de contato), a data de seu último pagamento (última data de pagamento) e o país em que estão localizados.\n",
    "  Coluna incluídas para fornecer insights sobre o comportamento e as preferências do usuário. Essa coluna inclue o tipo de dispositivo (por exemplo, Smart TV, Mobile, Desktop, Tablet). O conjunto de dados serve como uma representação sintética e não reflete os dados reais do usuário Netflix. Ele pode ser usado para análise e modelagem para entender as tendências, preferências e geração de receita do usuário dentro de uma hipotética base de usuários da Netflix."
   ]
  },
  {
   "cell_type": "markdown",
   "id": "f5578eb5-80ac-414c-afc6-4d922363a439",
   "metadata": {},
   "source": [
    "#### Importando base de dados"
   ]
  },
  {
   "cell_type": "code",
   "execution_count": 7,
   "id": "b513e041-46d4-473f-9fe4-2c709eb54cf4",
   "metadata": {
    "scrolled": true
   },
   "outputs": [
    {
     "data": {
      "text/html": [
       "<div>\n",
       "<style scoped>\n",
       "    .dataframe tbody tr th:only-of-type {\n",
       "        vertical-align: middle;\n",
       "    }\n",
       "\n",
       "    .dataframe tbody tr th {\n",
       "        vertical-align: top;\n",
       "    }\n",
       "\n",
       "    .dataframe thead th {\n",
       "        text-align: right;\n",
       "    }\n",
       "</style>\n",
       "<table border=\"1\" class=\"dataframe\">\n",
       "  <thead>\n",
       "    <tr style=\"text-align: right;\">\n",
       "      <th></th>\n",
       "      <th>User ID</th>\n",
       "      <th>Subscription Type</th>\n",
       "      <th>Monthly Revenue</th>\n",
       "      <th>Join Date</th>\n",
       "      <th>Last Payment Date</th>\n",
       "      <th>Country</th>\n",
       "      <th>Age</th>\n",
       "      <th>Gender</th>\n",
       "      <th>Device</th>\n",
       "      <th>Plan Duration</th>\n",
       "    </tr>\n",
       "  </thead>\n",
       "  <tbody>\n",
       "    <tr>\n",
       "      <th>0</th>\n",
       "      <td>1</td>\n",
       "      <td>Basic</td>\n",
       "      <td>10</td>\n",
       "      <td>15-01-22</td>\n",
       "      <td>10-06-23</td>\n",
       "      <td>United States</td>\n",
       "      <td>28</td>\n",
       "      <td>Male</td>\n",
       "      <td>Smartphone</td>\n",
       "      <td>1 Month</td>\n",
       "    </tr>\n",
       "    <tr>\n",
       "      <th>1</th>\n",
       "      <td>2</td>\n",
       "      <td>Premium</td>\n",
       "      <td>15</td>\n",
       "      <td>05-09-21</td>\n",
       "      <td>22-06-23</td>\n",
       "      <td>Canada</td>\n",
       "      <td>35</td>\n",
       "      <td>Female</td>\n",
       "      <td>Tablet</td>\n",
       "      <td>1 Month</td>\n",
       "    </tr>\n",
       "    <tr>\n",
       "      <th>2</th>\n",
       "      <td>3</td>\n",
       "      <td>Standard</td>\n",
       "      <td>12</td>\n",
       "      <td>28-02-23</td>\n",
       "      <td>27-06-23</td>\n",
       "      <td>United Kingdom</td>\n",
       "      <td>42</td>\n",
       "      <td>Male</td>\n",
       "      <td>Smart TV</td>\n",
       "      <td>1 Month</td>\n",
       "    </tr>\n",
       "    <tr>\n",
       "      <th>3</th>\n",
       "      <td>4</td>\n",
       "      <td>Standard</td>\n",
       "      <td>12</td>\n",
       "      <td>10-07-22</td>\n",
       "      <td>26-06-23</td>\n",
       "      <td>Australia</td>\n",
       "      <td>51</td>\n",
       "      <td>Female</td>\n",
       "      <td>Laptop</td>\n",
       "      <td>1 Month</td>\n",
       "    </tr>\n",
       "    <tr>\n",
       "      <th>4</th>\n",
       "      <td>5</td>\n",
       "      <td>Basic</td>\n",
       "      <td>10</td>\n",
       "      <td>01-05-23</td>\n",
       "      <td>28-06-23</td>\n",
       "      <td>Germany</td>\n",
       "      <td>33</td>\n",
       "      <td>Male</td>\n",
       "      <td>Smartphone</td>\n",
       "      <td>1 Month</td>\n",
       "    </tr>\n",
       "    <tr>\n",
       "      <th>...</th>\n",
       "      <td>...</td>\n",
       "      <td>...</td>\n",
       "      <td>...</td>\n",
       "      <td>...</td>\n",
       "      <td>...</td>\n",
       "      <td>...</td>\n",
       "      <td>...</td>\n",
       "      <td>...</td>\n",
       "      <td>...</td>\n",
       "      <td>...</td>\n",
       "    </tr>\n",
       "    <tr>\n",
       "      <th>2495</th>\n",
       "      <td>2496</td>\n",
       "      <td>Premium</td>\n",
       "      <td>14</td>\n",
       "      <td>25-07-22</td>\n",
       "      <td>12-07-23</td>\n",
       "      <td>Spain</td>\n",
       "      <td>28</td>\n",
       "      <td>Female</td>\n",
       "      <td>Smart TV</td>\n",
       "      <td>1 Month</td>\n",
       "    </tr>\n",
       "    <tr>\n",
       "      <th>2496</th>\n",
       "      <td>2497</td>\n",
       "      <td>Basic</td>\n",
       "      <td>15</td>\n",
       "      <td>04-08-22</td>\n",
       "      <td>14-07-23</td>\n",
       "      <td>Spain</td>\n",
       "      <td>33</td>\n",
       "      <td>Female</td>\n",
       "      <td>Smart TV</td>\n",
       "      <td>1 Month</td>\n",
       "    </tr>\n",
       "    <tr>\n",
       "      <th>2497</th>\n",
       "      <td>2498</td>\n",
       "      <td>Standard</td>\n",
       "      <td>12</td>\n",
       "      <td>09-08-22</td>\n",
       "      <td>15-07-23</td>\n",
       "      <td>United States</td>\n",
       "      <td>38</td>\n",
       "      <td>Male</td>\n",
       "      <td>Laptop</td>\n",
       "      <td>1 Month</td>\n",
       "    </tr>\n",
       "    <tr>\n",
       "      <th>2498</th>\n",
       "      <td>2499</td>\n",
       "      <td>Standard</td>\n",
       "      <td>13</td>\n",
       "      <td>12-08-22</td>\n",
       "      <td>12-07-23</td>\n",
       "      <td>Canada</td>\n",
       "      <td>48</td>\n",
       "      <td>Female</td>\n",
       "      <td>Tablet</td>\n",
       "      <td>1 Month</td>\n",
       "    </tr>\n",
       "    <tr>\n",
       "      <th>2499</th>\n",
       "      <td>2500</td>\n",
       "      <td>Basic</td>\n",
       "      <td>15</td>\n",
       "      <td>13-08-22</td>\n",
       "      <td>12-07-23</td>\n",
       "      <td>United States</td>\n",
       "      <td>35</td>\n",
       "      <td>Female</td>\n",
       "      <td>Smart TV</td>\n",
       "      <td>1 Month</td>\n",
       "    </tr>\n",
       "  </tbody>\n",
       "</table>\n",
       "<p>2500 rows × 10 columns</p>\n",
       "</div>"
      ],
      "text/plain": [
       "      User ID Subscription Type  Monthly Revenue Join Date Last Payment Date  \\\n",
       "0           1             Basic               10  15-01-22          10-06-23   \n",
       "1           2           Premium               15  05-09-21          22-06-23   \n",
       "2           3          Standard               12  28-02-23          27-06-23   \n",
       "3           4          Standard               12  10-07-22          26-06-23   \n",
       "4           5             Basic               10  01-05-23          28-06-23   \n",
       "...       ...               ...              ...       ...               ...   \n",
       "2495     2496           Premium               14  25-07-22          12-07-23   \n",
       "2496     2497             Basic               15  04-08-22          14-07-23   \n",
       "2497     2498          Standard               12  09-08-22          15-07-23   \n",
       "2498     2499          Standard               13  12-08-22          12-07-23   \n",
       "2499     2500             Basic               15  13-08-22          12-07-23   \n",
       "\n",
       "             Country  Age  Gender      Device Plan Duration  \n",
       "0      United States   28    Male  Smartphone       1 Month  \n",
       "1             Canada   35  Female      Tablet       1 Month  \n",
       "2     United Kingdom   42    Male    Smart TV       1 Month  \n",
       "3          Australia   51  Female      Laptop       1 Month  \n",
       "4            Germany   33    Male  Smartphone       1 Month  \n",
       "...              ...  ...     ...         ...           ...  \n",
       "2495           Spain   28  Female    Smart TV       1 Month  \n",
       "2496           Spain   33  Female    Smart TV       1 Month  \n",
       "2497   United States   38    Male      Laptop       1 Month  \n",
       "2498          Canada   48  Female      Tablet       1 Month  \n",
       "2499   United States   35  Female    Smart TV       1 Month  \n",
       "\n",
       "[2500 rows x 10 columns]"
      ]
     },
     "metadata": {},
     "output_type": "display_data"
    }
   ],
   "source": [
    "planosDf = pd.read_csv(\"Netflix Userbase.csv\")\n",
    "display(planosDf)"
   ]
  },
  {
   "cell_type": "markdown",
   "id": "2b71911d-df4b-4b85-a8cb-8836f0359da7",
   "metadata": {},
   "source": [
    "#### Removendo colunas que não vou usar\n",
    "    -Deixando apenas:\n",
    "    -ID do usuário;\n",
    "    -Tipo de assinatura: Dado categórico;\n",
    "    -Países: Dado categórico;\n",
    "    -Idade: Dado númerico;\n",
    "    -Gênero: Dado categórico;\n",
    "    -Dispositivo: Dado categórico;"
   ]
  },
  {
   "cell_type": "code",
   "execution_count": 8,
   "id": "785f9a9a-c9f0-424a-91c7-557217d035a7",
   "metadata": {},
   "outputs": [
    {
     "data": {
      "text/html": [
       "<div>\n",
       "<style scoped>\n",
       "    .dataframe tbody tr th:only-of-type {\n",
       "        vertical-align: middle;\n",
       "    }\n",
       "\n",
       "    .dataframe tbody tr th {\n",
       "        vertical-align: top;\n",
       "    }\n",
       "\n",
       "    .dataframe thead th {\n",
       "        text-align: right;\n",
       "    }\n",
       "</style>\n",
       "<table border=\"1\" class=\"dataframe\">\n",
       "  <thead>\n",
       "    <tr style=\"text-align: right;\">\n",
       "      <th></th>\n",
       "      <th>User ID</th>\n",
       "      <th>Subscription Type</th>\n",
       "      <th>Country</th>\n",
       "      <th>Age</th>\n",
       "      <th>Gender</th>\n",
       "      <th>Device</th>\n",
       "    </tr>\n",
       "  </thead>\n",
       "  <tbody>\n",
       "    <tr>\n",
       "      <th>0</th>\n",
       "      <td>1</td>\n",
       "      <td>Basic</td>\n",
       "      <td>United States</td>\n",
       "      <td>28</td>\n",
       "      <td>Male</td>\n",
       "      <td>Smartphone</td>\n",
       "    </tr>\n",
       "    <tr>\n",
       "      <th>1</th>\n",
       "      <td>2</td>\n",
       "      <td>Premium</td>\n",
       "      <td>Canada</td>\n",
       "      <td>35</td>\n",
       "      <td>Female</td>\n",
       "      <td>Tablet</td>\n",
       "    </tr>\n",
       "    <tr>\n",
       "      <th>2</th>\n",
       "      <td>3</td>\n",
       "      <td>Standard</td>\n",
       "      <td>United Kingdom</td>\n",
       "      <td>42</td>\n",
       "      <td>Male</td>\n",
       "      <td>Smart TV</td>\n",
       "    </tr>\n",
       "    <tr>\n",
       "      <th>3</th>\n",
       "      <td>4</td>\n",
       "      <td>Standard</td>\n",
       "      <td>Australia</td>\n",
       "      <td>51</td>\n",
       "      <td>Female</td>\n",
       "      <td>Laptop</td>\n",
       "    </tr>\n",
       "    <tr>\n",
       "      <th>4</th>\n",
       "      <td>5</td>\n",
       "      <td>Basic</td>\n",
       "      <td>Germany</td>\n",
       "      <td>33</td>\n",
       "      <td>Male</td>\n",
       "      <td>Smartphone</td>\n",
       "    </tr>\n",
       "    <tr>\n",
       "      <th>...</th>\n",
       "      <td>...</td>\n",
       "      <td>...</td>\n",
       "      <td>...</td>\n",
       "      <td>...</td>\n",
       "      <td>...</td>\n",
       "      <td>...</td>\n",
       "    </tr>\n",
       "    <tr>\n",
       "      <th>2495</th>\n",
       "      <td>2496</td>\n",
       "      <td>Premium</td>\n",
       "      <td>Spain</td>\n",
       "      <td>28</td>\n",
       "      <td>Female</td>\n",
       "      <td>Smart TV</td>\n",
       "    </tr>\n",
       "    <tr>\n",
       "      <th>2496</th>\n",
       "      <td>2497</td>\n",
       "      <td>Basic</td>\n",
       "      <td>Spain</td>\n",
       "      <td>33</td>\n",
       "      <td>Female</td>\n",
       "      <td>Smart TV</td>\n",
       "    </tr>\n",
       "    <tr>\n",
       "      <th>2497</th>\n",
       "      <td>2498</td>\n",
       "      <td>Standard</td>\n",
       "      <td>United States</td>\n",
       "      <td>38</td>\n",
       "      <td>Male</td>\n",
       "      <td>Laptop</td>\n",
       "    </tr>\n",
       "    <tr>\n",
       "      <th>2498</th>\n",
       "      <td>2499</td>\n",
       "      <td>Standard</td>\n",
       "      <td>Canada</td>\n",
       "      <td>48</td>\n",
       "      <td>Female</td>\n",
       "      <td>Tablet</td>\n",
       "    </tr>\n",
       "    <tr>\n",
       "      <th>2499</th>\n",
       "      <td>2500</td>\n",
       "      <td>Basic</td>\n",
       "      <td>United States</td>\n",
       "      <td>35</td>\n",
       "      <td>Female</td>\n",
       "      <td>Smart TV</td>\n",
       "    </tr>\n",
       "  </tbody>\n",
       "</table>\n",
       "<p>2500 rows × 6 columns</p>\n",
       "</div>"
      ],
      "text/plain": [
       "      User ID Subscription Type         Country  Age  Gender      Device\n",
       "0           1             Basic   United States   28    Male  Smartphone\n",
       "1           2           Premium          Canada   35  Female      Tablet\n",
       "2           3          Standard  United Kingdom   42    Male    Smart TV\n",
       "3           4          Standard       Australia   51  Female      Laptop\n",
       "4           5             Basic         Germany   33    Male  Smartphone\n",
       "...       ...               ...             ...  ...     ...         ...\n",
       "2495     2496           Premium           Spain   28  Female    Smart TV\n",
       "2496     2497             Basic           Spain   33  Female    Smart TV\n",
       "2497     2498          Standard   United States   38    Male      Laptop\n",
       "2498     2499          Standard          Canada   48  Female      Tablet\n",
       "2499     2500             Basic   United States   35  Female    Smart TV\n",
       "\n",
       "[2500 rows x 6 columns]"
      ]
     },
     "metadata": {},
     "output_type": "display_data"
    }
   ],
   "source": [
    "planosDf = planosDf.drop('Join Date', axis=1)\n",
    "planosDf = planosDf.drop('Monthly Revenue', axis=1)\n",
    "planosDf = planosDf.drop('Last Payment Date', axis=1)\n",
    "planosDf = planosDf.drop('Plan Duration', axis=1)\n",
    "display(planosDf)"
   ]
  },
  {
   "cell_type": "markdown",
   "id": "8af0b785-94cc-47f7-9c4e-141e15f4f8b1",
   "metadata": {},
   "source": [
    "#### Tabela de frequência das idades dos assinantes da Netflix - Dado númerico"
   ]
  },
  {
   "cell_type": "code",
   "execution_count": 9,
   "id": "86a5f444-baca-4064-ae07-0b2022077120",
   "metadata": {
    "scrolled": true
   },
   "outputs": [
    {
     "name": "stdout",
     "output_type": "stream",
     "text": [
      " Age  Frequência  Frequência Acumulada  Frequência Relativa  Frequência Relativa Acumulada\n",
      "  26           1                     1                 0.04                           0.04\n",
      "  27          87                    88                 3.48                           3.52\n",
      "  28         115                   203                 4.60                           8.12\n",
      "  29         104                   307                 4.16                          12.28\n",
      "  30         116                   423                 4.64                          16.92\n",
      "  31         115                   538                 4.60                          21.52\n",
      "  32          92                   630                 3.68                          25.20\n",
      "  33          93                   723                 3.72                          28.92\n",
      "  34          88                   811                 3.52                          32.44\n",
      "  35         105                   916                 4.20                          36.64\n",
      "  36          99                  1015                 3.96                          40.60\n",
      "  37         107                  1122                 4.28                          44.88\n",
      "  38          89                  1211                 3.56                          48.44\n",
      "  39         116                  1327                 4.64                          53.08\n",
      "  40         103                  1430                 4.12                          57.20\n",
      "  41         114                  1544                 4.56                          61.76\n",
      "  42         102                  1646                 4.08                          65.84\n",
      "  43          94                  1740                 3.76                          69.60\n",
      "  44          86                  1826                 3.44                          73.04\n",
      "  45          89                  1915                 3.56                          76.60\n",
      "  46          99                  2014                 3.96                          80.56\n",
      "  47         111                  2125                 4.44                          85.00\n",
      "  48         101                  2226                 4.04                          89.04\n",
      "  49          97                  2323                 3.88                          92.92\n",
      "  50          84                  2407                 3.36                          96.28\n",
      "  51          93                  2500                 3.72                         100.00\n"
     ]
    }
   ],
   "source": [
    "frequenciaDfNumerico = planosDf['Age'].value_counts().reset_index()\n",
    "frequenciaDfNumerico.columns = ['Age', 'Frequência']\n",
    "frequenciaDfNumerico = frequenciaDfNumerico.sort_values(by='Age')\n",
    "frequenciaDfNumerico['Frequência Acumulada'] = frequenciaDfNumerico['Frequência'].cumsum()\n",
    "totalObservacoes = len(planosDf)\n",
    "frequenciaDfNumerico['Frequência Relativa'] = frequenciaDfNumerico['Frequência'] / totalObservacoes * 100\n",
    "frequenciaDfNumerico['Frequência Relativa Acumulada'] = frequenciaDfNumerico['Frequência Relativa'].cumsum()\n",
    "print(frequenciaDfNumerico.to_string(index=False))"
   ]
  },
  {
   "cell_type": "markdown",
   "id": "f500232e-c304-4925-9091-c6538d4b0f5f",
   "metadata": {},
   "source": [
    "#### Tabela de frequência dos dispositivos de acesso a Netflix - Dado categórico"
   ]
  },
  {
   "cell_type": "code",
   "execution_count": 10,
   "id": "84e19023-5885-4012-98c3-f6833e4414df",
   "metadata": {},
   "outputs": [
    {
     "name": "stdout",
     "output_type": "stream",
     "text": [
      "    Device  Frequência  Frequência Acumulada  Frequência Relativa  Frequência Relativa Acumulada\n",
      "    Laptop         636                   636                25.44                          25.44\n",
      "  Smart TV         610                  1246                24.40                          49.84\n",
      "Smartphone         621                  1867                24.84                          74.68\n",
      "    Tablet         633                  2500                25.32                         100.00\n"
     ]
    }
   ],
   "source": [
    "frequenciaDfNumerico = planosDf['Device'].value_counts().reset_index()\n",
    "frequenciaDfNumerico.columns = ['Device', 'Frequência']\n",
    "frequenciaDfNumerico = frequenciaDfNumerico.sort_values(by='Device')\n",
    "frequenciaDfNumerico['Frequência Acumulada'] = frequenciaDfNumerico['Frequência'].cumsum()\n",
    "totalObservacoes = len(planosDf)\n",
    "frequenciaDfNumerico['Frequência Relativa'] = frequenciaDfNumerico['Frequência'] / totalObservacoes * 100\n",
    "frequenciaDfNumerico['Frequência Relativa Acumulada'] = frequenciaDfNumerico['Frequência Relativa'].cumsum()\n",
    "print(frequenciaDfNumerico.to_string(index=False))"
   ]
  },
  {
   "cell_type": "markdown",
   "id": "1c174f84-1811-4e2b-b651-673100e347e6",
   "metadata": {},
   "source": [
    "#### Tabela de frequência dos planos de assinatura da Netflix - Dado categórico"
   ]
  },
  {
   "cell_type": "code",
   "execution_count": 24,
   "id": "8b3808cc-5f04-47e1-86fe-8c6871d732ca",
   "metadata": {},
   "outputs": [
    {
     "name": "stdout",
     "output_type": "stream",
     "text": [
      "Subscription Type  Frequência  Frequência Acumulada  Frequência Relativa  Frequência Relativa Acumulada\n",
      "            Basic         999                   999                39.96                          39.96\n",
      "          Premium         733                  1732                29.32                          69.28\n",
      "         Standard         768                  2500                30.72                         100.00\n"
     ]
    }
   ],
   "source": [
    "frequenciaDfNumerico = planosDf['Subscription Type'].value_counts().reset_index()\n",
    "frequenciaDfNumerico.columns = ['Subscription Type', 'Frequência']\n",
    "frequenciaDfNumerico = frequenciaDfNumerico.sort_values(by='Subscription Type')\n",
    "frequenciaDfNumerico['Frequência Acumulada'] = frequenciaDfNumerico['Frequência'].cumsum()\n",
    "totalObservacoes = len(planosDf)\n",
    "frequenciaDfNumerico['Frequência Relativa'] = frequenciaDfNumerico['Frequência'] / totalObservacoes * 100\n",
    "frequenciaDfNumerico['Frequência Relativa Acumulada'] = frequenciaDfNumerico['Frequência Relativa'].cumsum()\n",
    "print(frequenciaDfNumerico.to_string(index=False))"
   ]
  },
  {
   "cell_type": "markdown",
   "id": "0e451dbd-1385-4679-aad8-a860a696e44f",
   "metadata": {},
   "source": [
    "## Gráficos"
   ]
  },
  {
   "cell_type": "markdown",
   "id": "39912e47-e027-4df2-b0ee-65415e96060d",
   "metadata": {},
   "source": [
    "Um gráfico é uma representação visual de dados, utilizando elementos visuais como linhas, barras, pontos e setores para comunicar informações de forma clara e concisa. São ferramentas poderosas para apresentar dados complexos de maneira fácil de entender, permitindo identificar tendências, padrões e relações entre diferentes variáveis."
   ]
  },
  {
   "cell_type": "markdown",
   "id": "3a5782ee-ce6e-45c6-9347-88c844cc3cdd",
   "metadata": {},
   "source": [
    "#### Importando o Matplotlib"
   ]
  },
  {
   "cell_type": "code",
   "execution_count": 16,
   "id": "da2cb44b-9279-4682-b5e1-97c115276ce7",
   "metadata": {},
   "outputs": [],
   "source": [
    "import matplotlib.pyplot as plt"
   ]
  },
  {
   "cell_type": "markdown",
   "id": "dac73a45-2034-461e-a680-b403dd7fafbd",
   "metadata": {},
   "source": [
    "#### Gráfico pizza dos planos de assinatura da Netflix"
   ]
  },
  {
   "cell_type": "code",
   "execution_count": 29,
   "id": "cbf92c73-7498-4d9e-b503-6555b634ee64",
   "metadata": {},
   "outputs": [
    {
     "data": {
      "image/png": "[encoded data removed]",
      "text/plain": [
       "<Figure size 500x500 with 1 Axes>"
      ]
     },
     "metadata": {},
     "output_type": "display_data"
    }
   ],
   "source": [
    "generos = ['Basic', 'Premium', 'Standard']\n",
    "freqAbsoluta = [999, 733, 768]\n",
    "plt.figure(figsize=(5, 5))\n",
    "plt.pie(freqAbsoluta, labels=generos, autopct='%1.1f%%', startangle=140)\n",
    "plt.title('Gráfico de Pizza das Frequências de Gêneros de Jogos')\n",
    "plt.axis('equal')\n",
    "plt.show()"
   ]
  },
  {
   "cell_type": "markdown",
   "id": "3a8bfe1c-8fb9-4466-8f9b-521946821825",
   "metadata": {},
   "source": [
    "#### Gráfico em barras do gênero dos assinantes e as suas respectivas idades médias"
   ]
  },
  {
   "cell_type": "code",
   "execution_count": 25,
   "id": "cfa475de-d1da-4878-b889-5add53d6ab5e",
   "metadata": {},
   "outputs": [
    {
     "data": {
      "image/png": "[encoded data removed]",
      "text/plain": [
       "<Figure size 640x480 with 1 Axes>"
      ]
     },
     "metadata": {},
     "output_type": "display_data"
    }
   ],
   "source": [
    "planosDf.head(2).plot(kind='bar', x='Gender', y='Age', legend=False)\n",
    "plt.title('Gráfico de Barras')\n",
    "plt.xlabel('Gender')\n",
    "plt.ylabel('Age')\n",
    "plt.show()"
   ]
  },
  {
   "cell_type": "markdown",
   "id": "3a1d8320-ac71-4b7f-88c9-2f955cd206e3",
   "metadata": {},
   "source": [
    "#### Gráfico pizza dos dispositivos de assinatura e as suas respectivas idades médias"
   ]
  },
  {
   "cell_type": "code",
   "execution_count": 30,
   "id": "62aff30f-b50a-41a2-8971-94fb5e7fbf20",
   "metadata": {},
   "outputs": [
    {
     "data": {
      "image/png": "[encoded data removed]",
      "text/plain": [
       "<Figure size 500x500 with 1 Axes>"
      ]
     },
     "metadata": {},
     "output_type": "display_data"
    }
   ],
   "source": [
    "generos = ['Laptop', 'Smart TV', 'Smartphone', 'Tablet']\n",
    "freqAbsoluta = [636, 610, 621, 633]\n",
    "plt.figure(figsize=(5, 5))\n",
    "plt.pie(freqAbsoluta, labels=generos, autopct='%1.1f%%', startangle=140)\n",
    "plt.title('Gráfico de Pizza das Frequências de Gêneros de Jogos')\n",
    "plt.axis('equal')\n",
    "plt.show()"
   ]
  },
  {
   "cell_type": "markdown",
   "id": "7a425bd0-478c-4c43-ac13-541e0e905dfa",
   "metadata": {},
   "source": [
    "## Histogramas"
   ]
  },
  {
   "cell_type": "markdown",
   "id": "40adef07-87e4-4d56-b3f2-e5d29d3f0a6d",
   "metadata": {},
   "source": [
    "Um histograma é uma representação gráfica em colunas ou barras que ilustra a distribuição de frequências de um conjunto de dados. É uma ferramenta útil para visualizar e analisar dados, pois permite observar a concentração de valores em diferentes intervalos."
   ]
  },
  {
   "cell_type": "markdown",
   "id": "52540e85-e585-4da4-9a7d-cd79fe7a0365",
   "metadata": {},
   "source": [
    "#### Histograma dos planos assinantes"
   ]
  },
  {
   "cell_type": "code",
   "execution_count": 73,
   "id": "fe1f6666-45ee-4ac8-b875-16f06d2944a4",
   "metadata": {},
   "outputs": [
    {
     "data": {
      "image/png": "[encoded data removed]",
      "text/plain": [
       "<Figure size 640x480 with 1 Axes>"
      ]
     },
     "metadata": {},
     "output_type": "display_data"
    }
   ],
   "source": [
    "plt.hist(planosDf[\"Subscription Type\"], bins=5)\n",
    "plt.xlabel(\"Subscription Type\")\n",
    "plt.ylabel(\"Frequência\")\n",
    "plt.show()"
   ]
  },
  {
   "cell_type": "markdown",
   "id": "bbb75bc2-935b-411c-9636-b89e97a0941c",
   "metadata": {},
   "source": [
    "#### Histograma dos países assinantes"
   ]
  },
  {
   "cell_type": "code",
   "execution_count": 84,
   "id": "011ae9b7-2a00-47d9-93fa-c5611e8d9462",
   "metadata": {},
   "outputs": [
    {
     "data": {
      "image/png": "[encoded data removed]",
      "text/plain": [
       "<Figure size 640x480 with 1 Axes>"
      ]
     },
     "metadata": {},
     "output_type": "display_data"
    }
   ],
   "source": [
    "plt.hist(planosDf[\"Country\"], bins=8, width=1)\n",
    "plt.xlabel(\"Subscription Type\")\n",
    "plt.ylabel(\"Frequência\")\n",
    "plt.show()"
   ]
  },
  {
   "cell_type": "markdown",
   "id": "93e366bb-ec0e-4f9d-9204-925d09c23b6f",
   "metadata": {},
   "source": [
    "#### Importando NumPy e Statistics"
   ]
  },
  {
   "cell_type": "markdown",
   "id": "70198f2f-1446-4f54-8371-2f1afa56e366",
   "metadata": {},
   "source": [
    "#### Calculando a média, moda e mediana da idade dos assinantes na Netflix"
   ]
  },
  {
   "cell_type": "markdown",
   "id": "873354c1-03df-49e8-b8dc-7c95f7c3d707",
   "metadata": {},
   "source": [
    "**Média**:\n",
    "A média é uma medida de tendência central que representa o valor médio de um conjunto de dados.\n",
    "Calcula-se somando todos os valores e dividindo pelo número total de observações.\n",
    "A média é sensível a valores extremos, também conhecidos como outliers, pois eles podem afetar significativamente o resultado.\n",
    "**Moda**:\n",
    "A moda é o valor que aparece com maior frequência em um conjunto de dados.\n",
    "Pode haver conjuntos de dados unimodais (um valor de moda), bimodais (dois valores de moda) ou multimodais (mais de dois valores de moda).\n",
    "A moda é útil para identificar os valores mais frequentes em um conjunto de dados.\n",
    "**Mediana**:\n",
    "A mediana é o valor que divide o conjunto de dados ao meio quando eles estão organizados em ordem crescente ou decrescente.\n",
    "É menos sensível a valores extremos do que a média, tornando-a uma medida de tendência central mais robusta em certos casos.\n",
    "A mediana é particularmente útil quando se lida com conjuntos de dados com valores extremos que podem distorcer a média."
   ]
  },
  {
   "cell_type": "code",
   "execution_count": 85,
   "id": "6329e5ad-5745-4c44-96c7-599e2fb3de22",
   "metadata": {},
   "outputs": [],
   "source": [
    "import numpy as np\n",
    "from statistics import mode, median"
   ]
  },
  {
   "cell_type": "code",
   "execution_count": 86,
   "id": "6bed3a0c-5534-47aa-8ed3-bb901378d2ff",
   "metadata": {},
   "outputs": [
    {
     "name": "stdout",
     "output_type": "stream",
     "text": [
      "Media :  38.7956\n",
      "Mediana :  39.0\n",
      "Moda :  39\n"
     ]
    }
   ],
   "source": [
    "media = np.mean(planosDf['Age'])\n",
    "moda = mode(planosDf['Age'])\n",
    "mediana = median(planosDf['Age'])\n",
    "print(\"Media : \", media)\n",
    "print(\"Mediana : \", mediana)\n",
    "print(\"Moda : \", moda)"
   ]
  }
 ],
 "metadata": {
  "kernelspec": {
   "display_name": "Python 3 (ipykernel)",
   "language": "python",
   "name": "python3"
  },
  "language_info": {
   "codemirror_mode": {
    "name": "ipython",
    "version": 3
   },
   "file_extension": ".py",
   "mimetype": "text/x-python",
   "name": "python",
   "nbconvert_exporter": "python",
   "pygments_lexer": "ipython3",
   "version": "3.10.12"
  }
 },
 "nbformat": 4,
 "nbformat_minor": 5
}
